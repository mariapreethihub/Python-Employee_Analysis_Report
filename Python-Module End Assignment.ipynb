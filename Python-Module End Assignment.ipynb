{
 "cells": [
  {
   "cell_type": "markdown",
   "id": "f0472a34-d255-4a10-a134-e9581f831a80",
   "metadata": {},
   "source": [
    "# 1.Importing necessary libraries"
   ]
  },
  {
   "cell_type": "code",
   "execution_count": 1,
   "id": "b5bef6c4-e268-4fad-9183-cd3a93e9d656",
   "metadata": {},
   "outputs": [],
   "source": [
    "import pandas as pd\n",
    "import numpy as np\n",
    "import matplotlib.pyplot as plt\n",
    "import seaborn as sns"
   ]
  },
  {
   "cell_type": "markdown",
   "id": "f0e71d03-c334-4f0c-94d4-13efe7b4ffe2",
   "metadata": {},
   "source": [
    "# 2.Loading the dataset and checking using function head()"
   ]
  },
  {
   "cell_type": "code",
   "execution_count": 4,
   "id": "4cb67c82-23ba-43d5-805a-ef06cd772165",
   "metadata": {},
   "outputs": [
    {
     "data": {
      "text/html": [
       "<div>\n",
       "<style scoped>\n",
       "    .dataframe tbody tr th:only-of-type {\n",
       "        vertical-align: middle;\n",
       "    }\n",
       "\n",
       "    .dataframe tbody tr th {\n",
       "        vertical-align: top;\n",
       "    }\n",
       "\n",
       "    .dataframe thead th {\n",
       "        text-align: right;\n",
       "    }\n",
       "</style>\n",
       "<table border=\"1\" class=\"dataframe\">\n",
       "  <thead>\n",
       "    <tr style=\"text-align: right;\">\n",
       "      <th></th>\n",
       "      <th>Name</th>\n",
       "      <th>Team</th>\n",
       "      <th>Number</th>\n",
       "      <th>Position</th>\n",
       "      <th>Age</th>\n",
       "      <th>Height</th>\n",
       "      <th>Weight</th>\n",
       "      <th>College</th>\n",
       "      <th>Salary</th>\n",
       "    </tr>\n",
       "  </thead>\n",
       "  <tbody>\n",
       "    <tr>\n",
       "      <th>0</th>\n",
       "      <td>Avery Bradley</td>\n",
       "      <td>Boston Celtics</td>\n",
       "      <td>0</td>\n",
       "      <td>PG</td>\n",
       "      <td>25</td>\n",
       "      <td>06-Feb</td>\n",
       "      <td>180</td>\n",
       "      <td>Texas</td>\n",
       "      <td>7730337.0</td>\n",
       "    </tr>\n",
       "    <tr>\n",
       "      <th>1</th>\n",
       "      <td>Jae Crowder</td>\n",
       "      <td>Boston Celtics</td>\n",
       "      <td>99</td>\n",
       "      <td>SF</td>\n",
       "      <td>25</td>\n",
       "      <td>06-Jun</td>\n",
       "      <td>235</td>\n",
       "      <td>Marquette</td>\n",
       "      <td>6796117.0</td>\n",
       "    </tr>\n",
       "    <tr>\n",
       "      <th>2</th>\n",
       "      <td>John Holland</td>\n",
       "      <td>Boston Celtics</td>\n",
       "      <td>30</td>\n",
       "      <td>SG</td>\n",
       "      <td>27</td>\n",
       "      <td>06-May</td>\n",
       "      <td>205</td>\n",
       "      <td>Boston University</td>\n",
       "      <td>NaN</td>\n",
       "    </tr>\n",
       "    <tr>\n",
       "      <th>3</th>\n",
       "      <td>R.J. Hunter</td>\n",
       "      <td>Boston Celtics</td>\n",
       "      <td>28</td>\n",
       "      <td>SG</td>\n",
       "      <td>22</td>\n",
       "      <td>06-May</td>\n",
       "      <td>185</td>\n",
       "      <td>Georgia State</td>\n",
       "      <td>1148640.0</td>\n",
       "    </tr>\n",
       "    <tr>\n",
       "      <th>4</th>\n",
       "      <td>Jonas Jerebko</td>\n",
       "      <td>Boston Celtics</td>\n",
       "      <td>8</td>\n",
       "      <td>PF</td>\n",
       "      <td>29</td>\n",
       "      <td>06-Oct</td>\n",
       "      <td>231</td>\n",
       "      <td>NaN</td>\n",
       "      <td>5000000.0</td>\n",
       "    </tr>\n",
       "  </tbody>\n",
       "</table>\n",
       "</div>"
      ],
      "text/plain": [
       "            Name            Team  Number Position  Age  Height  Weight  \\\n",
       "0  Avery Bradley  Boston Celtics       0       PG   25  06-Feb     180   \n",
       "1    Jae Crowder  Boston Celtics      99       SF   25  06-Jun     235   \n",
       "2   John Holland  Boston Celtics      30       SG   27  06-May     205   \n",
       "3    R.J. Hunter  Boston Celtics      28       SG   22  06-May     185   \n",
       "4  Jonas Jerebko  Boston Celtics       8       PF   29  06-Oct     231   \n",
       "\n",
       "             College     Salary  \n",
       "0              Texas  7730337.0  \n",
       "1          Marquette  6796117.0  \n",
       "2  Boston University        NaN  \n",
       "3      Georgia State  1148640.0  \n",
       "4                NaN  5000000.0  "
      ]
     },
     "execution_count": 4,
     "metadata": {},
     "output_type": "execute_result"
    }
   ],
   "source": [
    "data_set=pd.read_csv('employee_details.csv')\n",
    "data_set.head()"
   ]
  },
  {
   "cell_type": "markdown",
   "id": "7413b44e-15e3-4e09-b380-e9ad1291f81e",
   "metadata": {},
   "source": [
    "# 3.Checking basic information"
   ]
  },
  {
   "cell_type": "code",
   "execution_count": 6,
   "id": "2bfefc65-9236-4bf5-a7c5-329c09aa1885",
   "metadata": {},
   "outputs": [
    {
     "name": "stdout",
     "output_type": "stream",
     "text": [
      "<class 'pandas.core.frame.DataFrame'>\n",
      "RangeIndex: 458 entries, 0 to 457\n",
      "Data columns (total 9 columns):\n",
      " #   Column    Non-Null Count  Dtype  \n",
      "---  ------    --------------  -----  \n",
      " 0   Name      458 non-null    object \n",
      " 1   Team      458 non-null    object \n",
      " 2   Number    458 non-null    int64  \n",
      " 3   Position  458 non-null    object \n",
      " 4   Age       458 non-null    int64  \n",
      " 5   Height    458 non-null    object \n",
      " 6   Weight    458 non-null    int64  \n",
      " 7   College   374 non-null    object \n",
      " 8   Salary    447 non-null    float64\n",
      "dtypes: float64(1), int64(3), object(5)\n",
      "memory usage: 32.3+ KB\n"
     ]
    }
   ],
   "source": [
    "data_set.info()                           # Shows column name,datatype and missing values"
   ]
  },
  {
   "cell_type": "markdown",
   "id": "5256b1c6-b0af-4e0e-9ba9-e607d4d00511",
   "metadata": {},
   "source": [
    "# 4.Data Preprocessing"
   ]
  },
  {
   "cell_type": "markdown",
   "id": "1e141dad-589f-420c-aa5e-e86a35d8df17",
   "metadata": {},
   "source": [
    "# Correct the data in the \"height\" column by replacing it with random numbers between 150 and 180.Ensure data consistency and integrity before proceeding with analysis. "
   ]
  },
  {
   "cell_type": "raw",
   "id": "7f05ba08-939b-4308-8df2-2207a23307d4",
   "metadata": {},
   "source": [
    "# 1.Checking for missing values"
   ]
  },
  {
   "cell_type": "code",
   "execution_count": 8,
   "id": "9a0d9432-e018-41f7-a177-2d559f2366db",
   "metadata": {},
   "outputs": [
    {
     "data": {
      "text/plain": [
       "Name         0\n",
       "Team         0\n",
       "Number       0\n",
       "Position     0\n",
       "Age          0\n",
       "Height       0\n",
       "Weight       0\n",
       "College     84\n",
       "Salary      11\n",
       "dtype: int64"
      ]
     },
     "execution_count": 8,
     "metadata": {},
     "output_type": "execute_result"
    }
   ],
   "source": [
    "data_set.isnull().sum()       # Displays total number of null values in the field"
   ]
  },
  {
   "cell_type": "raw",
   "id": "629729bd-2276-4960-8d0a-e0d1dc189c3d",
   "metadata": {},
   "source": [
    "# The column College and Salary has 84 and 11 null values"
   ]
  },
  {
   "cell_type": "raw",
   "id": "b0cfac47-1823-43c4-9003-ba5319a3d345",
   "metadata": {},
   "source": [
    "# 2.Filling missing values"
   ]
  },
  {
   "cell_type": "code",
   "execution_count": 10,
   "id": "91391618-3747-41f3-8cae-d9387b1953c1",
   "metadata": {},
   "outputs": [],
   "source": [
    "data_set.fillna({'Salary':data_set['Salary'].median()},inplace=True)  # The column Salary is numerical field empty fields is imputed with median"
   ]
  },
  {
   "cell_type": "code",
   "execution_count": 12,
   "id": "c6928db4-dad1-4e16-896b-a4b2bbcaf783",
   "metadata": {},
   "outputs": [],
   "source": [
    "data_set.fillna({'College':'Unknown'},inplace=True) # The Categorical column College is fill with Unknown."
   ]
  },
  {
   "cell_type": "code",
   "execution_count": 14,
   "id": "b0092f6b-cd25-45cc-a93f-279d4bfe2862",
   "metadata": {},
   "outputs": [
    {
     "data": {
      "text/plain": [
       "Name        0\n",
       "Team        0\n",
       "Number      0\n",
       "Position    0\n",
       "Age         0\n",
       "Height      0\n",
       "Weight      0\n",
       "College     0\n",
       "Salary      0\n",
       "dtype: int64"
      ]
     },
     "execution_count": 14,
     "metadata": {},
     "output_type": "execute_result"
    }
   ],
   "source": [
    "data_set.isnull().sum()                          # Cheking for null value"
   ]
  },
  {
   "cell_type": "code",
   "execution_count": 16,
   "id": "7802522a-3ade-491a-9dd0-c3b49e6c55a6",
   "metadata": {},
   "outputs": [
    {
     "data": {
      "text/html": [
       "<div>\n",
       "<style scoped>\n",
       "    .dataframe tbody tr th:only-of-type {\n",
       "        vertical-align: middle;\n",
       "    }\n",
       "\n",
       "    .dataframe tbody tr th {\n",
       "        vertical-align: top;\n",
       "    }\n",
       "\n",
       "    .dataframe thead th {\n",
       "        text-align: right;\n",
       "    }\n",
       "</style>\n",
       "<table border=\"1\" class=\"dataframe\">\n",
       "  <thead>\n",
       "    <tr style=\"text-align: right;\">\n",
       "      <th></th>\n",
       "      <th>Name</th>\n",
       "      <th>Team</th>\n",
       "      <th>Number</th>\n",
       "      <th>Position</th>\n",
       "      <th>Age</th>\n",
       "      <th>Height</th>\n",
       "      <th>Weight</th>\n",
       "      <th>College</th>\n",
       "      <th>Salary</th>\n",
       "    </tr>\n",
       "  </thead>\n",
       "  <tbody>\n",
       "    <tr>\n",
       "      <th>0</th>\n",
       "      <td>Avery Bradley</td>\n",
       "      <td>Boston Celtics</td>\n",
       "      <td>0</td>\n",
       "      <td>PG</td>\n",
       "      <td>25</td>\n",
       "      <td>06-Feb</td>\n",
       "      <td>180</td>\n",
       "      <td>Texas</td>\n",
       "      <td>7730337.0</td>\n",
       "    </tr>\n",
       "    <tr>\n",
       "      <th>1</th>\n",
       "      <td>Jae Crowder</td>\n",
       "      <td>Boston Celtics</td>\n",
       "      <td>99</td>\n",
       "      <td>SF</td>\n",
       "      <td>25</td>\n",
       "      <td>06-Jun</td>\n",
       "      <td>235</td>\n",
       "      <td>Marquette</td>\n",
       "      <td>6796117.0</td>\n",
       "    </tr>\n",
       "    <tr>\n",
       "      <th>2</th>\n",
       "      <td>John Holland</td>\n",
       "      <td>Boston Celtics</td>\n",
       "      <td>30</td>\n",
       "      <td>SG</td>\n",
       "      <td>27</td>\n",
       "      <td>06-May</td>\n",
       "      <td>205</td>\n",
       "      <td>Boston University</td>\n",
       "      <td>2836186.0</td>\n",
       "    </tr>\n",
       "    <tr>\n",
       "      <th>3</th>\n",
       "      <td>R.J. Hunter</td>\n",
       "      <td>Boston Celtics</td>\n",
       "      <td>28</td>\n",
       "      <td>SG</td>\n",
       "      <td>22</td>\n",
       "      <td>06-May</td>\n",
       "      <td>185</td>\n",
       "      <td>Georgia State</td>\n",
       "      <td>1148640.0</td>\n",
       "    </tr>\n",
       "    <tr>\n",
       "      <th>4</th>\n",
       "      <td>Jonas Jerebko</td>\n",
       "      <td>Boston Celtics</td>\n",
       "      <td>8</td>\n",
       "      <td>PF</td>\n",
       "      <td>29</td>\n",
       "      <td>06-Oct</td>\n",
       "      <td>231</td>\n",
       "      <td>Unknown</td>\n",
       "      <td>5000000.0</td>\n",
       "    </tr>\n",
       "    <tr>\n",
       "      <th>5</th>\n",
       "      <td>Amir Johnson</td>\n",
       "      <td>Boston Celtics</td>\n",
       "      <td>90</td>\n",
       "      <td>PF</td>\n",
       "      <td>29</td>\n",
       "      <td>06-Sep</td>\n",
       "      <td>240</td>\n",
       "      <td>Unknown</td>\n",
       "      <td>12000000.0</td>\n",
       "    </tr>\n",
       "    <tr>\n",
       "      <th>6</th>\n",
       "      <td>Jordan Mickey</td>\n",
       "      <td>Boston Celtics</td>\n",
       "      <td>55</td>\n",
       "      <td>PF</td>\n",
       "      <td>21</td>\n",
       "      <td>06-Aug</td>\n",
       "      <td>235</td>\n",
       "      <td>LSU</td>\n",
       "      <td>1170960.0</td>\n",
       "    </tr>\n",
       "    <tr>\n",
       "      <th>7</th>\n",
       "      <td>Kelly Olynyk</td>\n",
       "      <td>Boston Celtics</td>\n",
       "      <td>41</td>\n",
       "      <td>C</td>\n",
       "      <td>25</td>\n",
       "      <td>7-0</td>\n",
       "      <td>238</td>\n",
       "      <td>Gonzaga</td>\n",
       "      <td>2165160.0</td>\n",
       "    </tr>\n",
       "    <tr>\n",
       "      <th>8</th>\n",
       "      <td>Terry Rozier</td>\n",
       "      <td>Boston Celtics</td>\n",
       "      <td>12</td>\n",
       "      <td>PG</td>\n",
       "      <td>22</td>\n",
       "      <td>06-Feb</td>\n",
       "      <td>190</td>\n",
       "      <td>Louisville</td>\n",
       "      <td>1824360.0</td>\n",
       "    </tr>\n",
       "    <tr>\n",
       "      <th>9</th>\n",
       "      <td>Marcus Smart</td>\n",
       "      <td>Boston Celtics</td>\n",
       "      <td>36</td>\n",
       "      <td>PG</td>\n",
       "      <td>22</td>\n",
       "      <td>06-Apr</td>\n",
       "      <td>220</td>\n",
       "      <td>Oklahoma State</td>\n",
       "      <td>3431040.0</td>\n",
       "    </tr>\n",
       "    <tr>\n",
       "      <th>10</th>\n",
       "      <td>Jared Sullinger</td>\n",
       "      <td>Boston Celtics</td>\n",
       "      <td>7</td>\n",
       "      <td>C</td>\n",
       "      <td>24</td>\n",
       "      <td>06-Sep</td>\n",
       "      <td>260</td>\n",
       "      <td>Ohio State</td>\n",
       "      <td>2569260.0</td>\n",
       "    </tr>\n",
       "    <tr>\n",
       "      <th>11</th>\n",
       "      <td>Isaiah Thomas</td>\n",
       "      <td>Boston Celtics</td>\n",
       "      <td>4</td>\n",
       "      <td>PG</td>\n",
       "      <td>27</td>\n",
       "      <td>05-Sep</td>\n",
       "      <td>185</td>\n",
       "      <td>Washington</td>\n",
       "      <td>6912869.0</td>\n",
       "    </tr>\n",
       "    <tr>\n",
       "      <th>12</th>\n",
       "      <td>Evan Turner</td>\n",
       "      <td>Boston Celtics</td>\n",
       "      <td>11</td>\n",
       "      <td>SG</td>\n",
       "      <td>27</td>\n",
       "      <td>06-Jul</td>\n",
       "      <td>220</td>\n",
       "      <td>Ohio State</td>\n",
       "      <td>3425510.0</td>\n",
       "    </tr>\n",
       "    <tr>\n",
       "      <th>13</th>\n",
       "      <td>James Young</td>\n",
       "      <td>Boston Celtics</td>\n",
       "      <td>13</td>\n",
       "      <td>SG</td>\n",
       "      <td>20</td>\n",
       "      <td>06-Jun</td>\n",
       "      <td>215</td>\n",
       "      <td>Kentucky</td>\n",
       "      <td>1749840.0</td>\n",
       "    </tr>\n",
       "    <tr>\n",
       "      <th>14</th>\n",
       "      <td>Tyler Zeller</td>\n",
       "      <td>Boston Celtics</td>\n",
       "      <td>44</td>\n",
       "      <td>C</td>\n",
       "      <td>26</td>\n",
       "      <td>7-0</td>\n",
       "      <td>253</td>\n",
       "      <td>North Carolina</td>\n",
       "      <td>2616975.0</td>\n",
       "    </tr>\n",
       "    <tr>\n",
       "      <th>15</th>\n",
       "      <td>Bojan Bogdanovic</td>\n",
       "      <td>Brooklyn Nets</td>\n",
       "      <td>44</td>\n",
       "      <td>SG</td>\n",
       "      <td>27</td>\n",
       "      <td>06-Aug</td>\n",
       "      <td>216</td>\n",
       "      <td>Unknown</td>\n",
       "      <td>3425510.0</td>\n",
       "    </tr>\n",
       "    <tr>\n",
       "      <th>16</th>\n",
       "      <td>Markel Brown</td>\n",
       "      <td>Brooklyn Nets</td>\n",
       "      <td>22</td>\n",
       "      <td>SG</td>\n",
       "      <td>24</td>\n",
       "      <td>06-Mar</td>\n",
       "      <td>190</td>\n",
       "      <td>Oklahoma State</td>\n",
       "      <td>845059.0</td>\n",
       "    </tr>\n",
       "    <tr>\n",
       "      <th>17</th>\n",
       "      <td>Wayne Ellington</td>\n",
       "      <td>Brooklyn Nets</td>\n",
       "      <td>21</td>\n",
       "      <td>SG</td>\n",
       "      <td>28</td>\n",
       "      <td>06-Apr</td>\n",
       "      <td>200</td>\n",
       "      <td>North Carolina</td>\n",
       "      <td>1500000.0</td>\n",
       "    </tr>\n",
       "    <tr>\n",
       "      <th>18</th>\n",
       "      <td>Rondae Hollis-Jefferson</td>\n",
       "      <td>Brooklyn Nets</td>\n",
       "      <td>24</td>\n",
       "      <td>SG</td>\n",
       "      <td>21</td>\n",
       "      <td>06-Jul</td>\n",
       "      <td>220</td>\n",
       "      <td>Arizona</td>\n",
       "      <td>1335480.0</td>\n",
       "    </tr>\n",
       "    <tr>\n",
       "      <th>19</th>\n",
       "      <td>Jarrett Jack</td>\n",
       "      <td>Brooklyn Nets</td>\n",
       "      <td>2</td>\n",
       "      <td>PG</td>\n",
       "      <td>32</td>\n",
       "      <td>06-Mar</td>\n",
       "      <td>200</td>\n",
       "      <td>Georgia Tech</td>\n",
       "      <td>6300000.0</td>\n",
       "    </tr>\n",
       "    <tr>\n",
       "      <th>20</th>\n",
       "      <td>Sergey Karasev</td>\n",
       "      <td>Brooklyn Nets</td>\n",
       "      <td>10</td>\n",
       "      <td>SG</td>\n",
       "      <td>22</td>\n",
       "      <td>06-Jul</td>\n",
       "      <td>208</td>\n",
       "      <td>Unknown</td>\n",
       "      <td>1599840.0</td>\n",
       "    </tr>\n",
       "    <tr>\n",
       "      <th>21</th>\n",
       "      <td>Sean Kilpatrick</td>\n",
       "      <td>Brooklyn Nets</td>\n",
       "      <td>6</td>\n",
       "      <td>SG</td>\n",
       "      <td>26</td>\n",
       "      <td>06-Apr</td>\n",
       "      <td>219</td>\n",
       "      <td>Cincinnati</td>\n",
       "      <td>134215.0</td>\n",
       "    </tr>\n",
       "    <tr>\n",
       "      <th>22</th>\n",
       "      <td>Shane Larkin</td>\n",
       "      <td>Brooklyn Nets</td>\n",
       "      <td>0</td>\n",
       "      <td>PG</td>\n",
       "      <td>23</td>\n",
       "      <td>05-Nov</td>\n",
       "      <td>175</td>\n",
       "      <td>Miami (FL)</td>\n",
       "      <td>1500000.0</td>\n",
       "    </tr>\n",
       "    <tr>\n",
       "      <th>23</th>\n",
       "      <td>Brook Lopez</td>\n",
       "      <td>Brooklyn Nets</td>\n",
       "      <td>11</td>\n",
       "      <td>C</td>\n",
       "      <td>28</td>\n",
       "      <td>7-0</td>\n",
       "      <td>275</td>\n",
       "      <td>Stanford</td>\n",
       "      <td>19689000.0</td>\n",
       "    </tr>\n",
       "    <tr>\n",
       "      <th>24</th>\n",
       "      <td>Chris McCullough</td>\n",
       "      <td>Brooklyn Nets</td>\n",
       "      <td>1</td>\n",
       "      <td>PF</td>\n",
       "      <td>21</td>\n",
       "      <td>06-Nov</td>\n",
       "      <td>200</td>\n",
       "      <td>Syracuse</td>\n",
       "      <td>1140240.0</td>\n",
       "    </tr>\n",
       "  </tbody>\n",
       "</table>\n",
       "</div>"
      ],
      "text/plain": [
       "                       Name            Team  Number Position  Age  Height  \\\n",
       "0             Avery Bradley  Boston Celtics       0       PG   25  06-Feb   \n",
       "1               Jae Crowder  Boston Celtics      99       SF   25  06-Jun   \n",
       "2              John Holland  Boston Celtics      30       SG   27  06-May   \n",
       "3               R.J. Hunter  Boston Celtics      28       SG   22  06-May   \n",
       "4             Jonas Jerebko  Boston Celtics       8       PF   29  06-Oct   \n",
       "5              Amir Johnson  Boston Celtics      90       PF   29  06-Sep   \n",
       "6             Jordan Mickey  Boston Celtics      55       PF   21  06-Aug   \n",
       "7              Kelly Olynyk  Boston Celtics      41        C   25     7-0   \n",
       "8              Terry Rozier  Boston Celtics      12       PG   22  06-Feb   \n",
       "9              Marcus Smart  Boston Celtics      36       PG   22  06-Apr   \n",
       "10          Jared Sullinger  Boston Celtics       7        C   24  06-Sep   \n",
       "11            Isaiah Thomas  Boston Celtics       4       PG   27  05-Sep   \n",
       "12              Evan Turner  Boston Celtics      11       SG   27  06-Jul   \n",
       "13              James Young  Boston Celtics      13       SG   20  06-Jun   \n",
       "14             Tyler Zeller  Boston Celtics      44        C   26     7-0   \n",
       "15         Bojan Bogdanovic   Brooklyn Nets      44       SG   27  06-Aug   \n",
       "16             Markel Brown   Brooklyn Nets      22       SG   24  06-Mar   \n",
       "17          Wayne Ellington   Brooklyn Nets      21       SG   28  06-Apr   \n",
       "18  Rondae Hollis-Jefferson   Brooklyn Nets      24       SG   21  06-Jul   \n",
       "19             Jarrett Jack   Brooklyn Nets       2       PG   32  06-Mar   \n",
       "20           Sergey Karasev   Brooklyn Nets      10       SG   22  06-Jul   \n",
       "21          Sean Kilpatrick   Brooklyn Nets       6       SG   26  06-Apr   \n",
       "22             Shane Larkin   Brooklyn Nets       0       PG   23  05-Nov   \n",
       "23              Brook Lopez   Brooklyn Nets      11        C   28     7-0   \n",
       "24         Chris McCullough   Brooklyn Nets       1       PF   21  06-Nov   \n",
       "\n",
       "    Weight            College      Salary  \n",
       "0      180              Texas   7730337.0  \n",
       "1      235          Marquette   6796117.0  \n",
       "2      205  Boston University   2836186.0  \n",
       "3      185      Georgia State   1148640.0  \n",
       "4      231            Unknown   5000000.0  \n",
       "5      240            Unknown  12000000.0  \n",
       "6      235                LSU   1170960.0  \n",
       "7      238            Gonzaga   2165160.0  \n",
       "8      190         Louisville   1824360.0  \n",
       "9      220     Oklahoma State   3431040.0  \n",
       "10     260         Ohio State   2569260.0  \n",
       "11     185         Washington   6912869.0  \n",
       "12     220         Ohio State   3425510.0  \n",
       "13     215           Kentucky   1749840.0  \n",
       "14     253     North Carolina   2616975.0  \n",
       "15     216            Unknown   3425510.0  \n",
       "16     190     Oklahoma State    845059.0  \n",
       "17     200     North Carolina   1500000.0  \n",
       "18     220            Arizona   1335480.0  \n",
       "19     200       Georgia Tech   6300000.0  \n",
       "20     208            Unknown   1599840.0  \n",
       "21     219         Cincinnati    134215.0  \n",
       "22     175         Miami (FL)   1500000.0  \n",
       "23     275           Stanford  19689000.0  \n",
       "24     200           Syracuse   1140240.0  "
      ]
     },
     "execution_count": 16,
     "metadata": {},
     "output_type": "execute_result"
    }
   ],
   "source": [
    "data_set.head(25)"
   ]
  },
  {
   "cell_type": "raw",
   "id": "b64e3e93-b6e1-4e22-90a1-23fdf01aa238",
   "metadata": {},
   "source": [
    "# 3.Checking for duplicate rows"
   ]
  },
  {
   "cell_type": "code",
   "execution_count": 18,
   "id": "18594c55-c57e-4c9e-8cae-5dd7ef9a4c09",
   "metadata": {},
   "outputs": [
    {
     "data": {
      "text/plain": [
       "0"
      ]
     },
     "execution_count": 18,
     "metadata": {},
     "output_type": "execute_result"
    }
   ],
   "source": [
    "data_set.duplicated().sum()                  # no duplicate rows"
   ]
  },
  {
   "cell_type": "raw",
   "id": "8f5969f6-ca90-4399-b522-0181d33be42d",
   "metadata": {},
   "source": [
    "# 4.Datatype Conversion"
   ]
  },
  {
   "cell_type": "code",
   "execution_count": 20,
   "id": "8007b5d4-5536-4787-b281-ffcaf635cded",
   "metadata": {},
   "outputs": [
    {
     "data": {
      "text/plain": [
       "Name         object\n",
       "Team         object\n",
       "Number        int64\n",
       "Position     object\n",
       "Age           int64\n",
       "Height       object\n",
       "Weight        int64\n",
       "College      object\n",
       "Salary      float64\n",
       "dtype: object"
      ]
     },
     "execution_count": 20,
     "metadata": {},
     "output_type": "execute_result"
    }
   ],
   "source": [
    "data_set.dtypes                      "
   ]
  },
  {
   "cell_type": "raw",
   "id": "c8efe131-e313-4956-ae1f-60e9fa650359",
   "metadata": {},
   "source": [
    "Data type of height need to be corrected."
   ]
  },
  {
   "cell_type": "raw",
   "id": "5b8438c9-429c-4e9b-b1e0-b4272e3afb1e",
   "metadata": {},
   "source": [
    "# 5.Data Inconsistency"
   ]
  },
  {
   "cell_type": "code",
   "execution_count": 22,
   "id": "6f02f99f-01f3-44eb-9787-28d9999b3c58",
   "metadata": {},
   "outputs": [],
   "source": [
    "data_set['Height']=np.random.randint(150,180,size=len(data_set))     # Replacing with random integer between 150 and 180"
   ]
  },
  {
   "cell_type": "code",
   "execution_count": 24,
   "id": "3b78f7ec-4fff-4f60-9220-bb564c810970",
   "metadata": {},
   "outputs": [
    {
     "data": {
      "text/html": [
       "<div>\n",
       "<style scoped>\n",
       "    .dataframe tbody tr th:only-of-type {\n",
       "        vertical-align: middle;\n",
       "    }\n",
       "\n",
       "    .dataframe tbody tr th {\n",
       "        vertical-align: top;\n",
       "    }\n",
       "\n",
       "    .dataframe thead th {\n",
       "        text-align: right;\n",
       "    }\n",
       "</style>\n",
       "<table border=\"1\" class=\"dataframe\">\n",
       "  <thead>\n",
       "    <tr style=\"text-align: right;\">\n",
       "      <th></th>\n",
       "      <th>Name</th>\n",
       "      <th>Team</th>\n",
       "      <th>Number</th>\n",
       "      <th>Position</th>\n",
       "      <th>Age</th>\n",
       "      <th>Height</th>\n",
       "      <th>Weight</th>\n",
       "      <th>College</th>\n",
       "      <th>Salary</th>\n",
       "    </tr>\n",
       "  </thead>\n",
       "  <tbody>\n",
       "    <tr>\n",
       "      <th>0</th>\n",
       "      <td>Avery Bradley</td>\n",
       "      <td>Boston Celtics</td>\n",
       "      <td>0</td>\n",
       "      <td>PG</td>\n",
       "      <td>25</td>\n",
       "      <td>160</td>\n",
       "      <td>180</td>\n",
       "      <td>Texas</td>\n",
       "      <td>7730337.0</td>\n",
       "    </tr>\n",
       "    <tr>\n",
       "      <th>1</th>\n",
       "      <td>Jae Crowder</td>\n",
       "      <td>Boston Celtics</td>\n",
       "      <td>99</td>\n",
       "      <td>SF</td>\n",
       "      <td>25</td>\n",
       "      <td>163</td>\n",
       "      <td>235</td>\n",
       "      <td>Marquette</td>\n",
       "      <td>6796117.0</td>\n",
       "    </tr>\n",
       "    <tr>\n",
       "      <th>2</th>\n",
       "      <td>John Holland</td>\n",
       "      <td>Boston Celtics</td>\n",
       "      <td>30</td>\n",
       "      <td>SG</td>\n",
       "      <td>27</td>\n",
       "      <td>151</td>\n",
       "      <td>205</td>\n",
       "      <td>Boston University</td>\n",
       "      <td>2836186.0</td>\n",
       "    </tr>\n",
       "    <tr>\n",
       "      <th>3</th>\n",
       "      <td>R.J. Hunter</td>\n",
       "      <td>Boston Celtics</td>\n",
       "      <td>28</td>\n",
       "      <td>SG</td>\n",
       "      <td>22</td>\n",
       "      <td>159</td>\n",
       "      <td>185</td>\n",
       "      <td>Georgia State</td>\n",
       "      <td>1148640.0</td>\n",
       "    </tr>\n",
       "    <tr>\n",
       "      <th>4</th>\n",
       "      <td>Jonas Jerebko</td>\n",
       "      <td>Boston Celtics</td>\n",
       "      <td>8</td>\n",
       "      <td>PF</td>\n",
       "      <td>29</td>\n",
       "      <td>159</td>\n",
       "      <td>231</td>\n",
       "      <td>Unknown</td>\n",
       "      <td>5000000.0</td>\n",
       "    </tr>\n",
       "  </tbody>\n",
       "</table>\n",
       "</div>"
      ],
      "text/plain": [
       "            Name            Team  Number Position  Age  Height  Weight  \\\n",
       "0  Avery Bradley  Boston Celtics       0       PG   25     160     180   \n",
       "1    Jae Crowder  Boston Celtics      99       SF   25     163     235   \n",
       "2   John Holland  Boston Celtics      30       SG   27     151     205   \n",
       "3    R.J. Hunter  Boston Celtics      28       SG   22     159     185   \n",
       "4  Jonas Jerebko  Boston Celtics       8       PF   29     159     231   \n",
       "\n",
       "             College     Salary  \n",
       "0              Texas  7730337.0  \n",
       "1          Marquette  6796117.0  \n",
       "2  Boston University  2836186.0  \n",
       "3      Georgia State  1148640.0  \n",
       "4            Unknown  5000000.0  "
      ]
     },
     "execution_count": 24,
     "metadata": {},
     "output_type": "execute_result"
    }
   ],
   "source": [
    "data_set.head()"
   ]
  },
  {
   "cell_type": "markdown",
   "id": "c8a5449b-1e6a-47f0-8846-0e0b124d487e",
   "metadata": {},
   "source": [
    "# Task 2. Determining the distribution of employees across each team and calculate the percentage split relative to the total number of employees. "
   ]
  },
  {
   "cell_type": "code",
   "execution_count": 26,
   "id": "f5e39220-3227-4ca2-9485-a3880d188f09",
   "metadata": {},
   "outputs": [
    {
     "data": {
      "text/plain": [
       "458"
      ]
     },
     "execution_count": 26,
     "metadata": {},
     "output_type": "execute_result"
    }
   ],
   "source": [
    "Total_no_of_emp=data_set['Team'].value_counts().sum()                   # Count of no of employees\n",
    "Total_no_of_emp"
   ]
  },
  {
   "cell_type": "code",
   "execution_count": 28,
   "id": "b3956099-8ad6-4079-8700-61448c13326e",
   "metadata": {},
   "outputs": [
    {
     "data": {
      "text/plain": [
       "Team\n",
       "New Orleans Pelicans      19\n",
       "Memphis Grizzlies         18\n",
       "Utah Jazz                 16\n",
       "New York Knicks           16\n",
       "Milwaukee Bucks           16\n",
       "Brooklyn Nets             15\n",
       "Portland Trail Blazers    15\n",
       "Oklahoma City Thunder     15\n",
       "Denver Nuggets            15\n",
       "Washington Wizards        15\n",
       "Miami Heat                15\n",
       "Charlotte Hornets         15\n",
       "Atlanta Hawks             15\n",
       "San Antonio Spurs         15\n",
       "Houston Rockets           15\n",
       "Boston Celtics            15\n",
       "Indiana Pacers            15\n",
       "Detroit Pistons           15\n",
       "Cleveland Cavaliers       15\n",
       "Chicago Bulls             15\n",
       "Sacramento Kings          15\n",
       "Phoenix Suns              15\n",
       "Los Angeles Lakers        15\n",
       "Los Angeles Clippers      15\n",
       "Golden State Warriors     15\n",
       "Toronto Raptors           15\n",
       "Philadelphia 76ers        15\n",
       "Dallas Mavericks          15\n",
       "Orlando Magic             14\n",
       "Minnesota Timberwolves    14\n",
       "Name: count, dtype: int64"
      ]
     },
     "execution_count": 28,
     "metadata": {},
     "output_type": "execute_result"
    }
   ],
   "source": [
    "data_set['Team'].value_counts()                                 # To display count of employee team wise"
   ]
  },
  {
   "cell_type": "code",
   "execution_count": 30,
   "id": "361e65a6-3206-4084-803e-5e48305dd5ed",
   "metadata": {},
   "outputs": [
    {
     "data": {
      "text/html": [
       "<div>\n",
       "<style scoped>\n",
       "    .dataframe tbody tr th:only-of-type {\n",
       "        vertical-align: middle;\n",
       "    }\n",
       "\n",
       "    .dataframe tbody tr th {\n",
       "        vertical-align: top;\n",
       "    }\n",
       "\n",
       "    .dataframe thead th {\n",
       "        text-align: right;\n",
       "    }\n",
       "</style>\n",
       "<table border=\"1\" class=\"dataframe\">\n",
       "  <thead>\n",
       "    <tr style=\"text-align: right;\">\n",
       "      <th></th>\n",
       "      <th>Team</th>\n",
       "      <th>Count</th>\n",
       "      <th>Percentage</th>\n",
       "    </tr>\n",
       "  </thead>\n",
       "  <tbody>\n",
       "    <tr>\n",
       "      <th>0</th>\n",
       "      <td>New Orleans Pelicans</td>\n",
       "      <td>19</td>\n",
       "      <td>4.15</td>\n",
       "    </tr>\n",
       "    <tr>\n",
       "      <th>1</th>\n",
       "      <td>Memphis Grizzlies</td>\n",
       "      <td>18</td>\n",
       "      <td>3.93</td>\n",
       "    </tr>\n",
       "    <tr>\n",
       "      <th>2</th>\n",
       "      <td>Utah Jazz</td>\n",
       "      <td>16</td>\n",
       "      <td>3.49</td>\n",
       "    </tr>\n",
       "    <tr>\n",
       "      <th>3</th>\n",
       "      <td>New York Knicks</td>\n",
       "      <td>16</td>\n",
       "      <td>3.49</td>\n",
       "    </tr>\n",
       "    <tr>\n",
       "      <th>4</th>\n",
       "      <td>Milwaukee Bucks</td>\n",
       "      <td>16</td>\n",
       "      <td>3.49</td>\n",
       "    </tr>\n",
       "    <tr>\n",
       "      <th>5</th>\n",
       "      <td>Brooklyn Nets</td>\n",
       "      <td>15</td>\n",
       "      <td>3.28</td>\n",
       "    </tr>\n",
       "    <tr>\n",
       "      <th>6</th>\n",
       "      <td>Portland Trail Blazers</td>\n",
       "      <td>15</td>\n",
       "      <td>3.28</td>\n",
       "    </tr>\n",
       "    <tr>\n",
       "      <th>7</th>\n",
       "      <td>Oklahoma City Thunder</td>\n",
       "      <td>15</td>\n",
       "      <td>3.28</td>\n",
       "    </tr>\n",
       "    <tr>\n",
       "      <th>8</th>\n",
       "      <td>Denver Nuggets</td>\n",
       "      <td>15</td>\n",
       "      <td>3.28</td>\n",
       "    </tr>\n",
       "    <tr>\n",
       "      <th>9</th>\n",
       "      <td>Washington Wizards</td>\n",
       "      <td>15</td>\n",
       "      <td>3.28</td>\n",
       "    </tr>\n",
       "    <tr>\n",
       "      <th>10</th>\n",
       "      <td>Miami Heat</td>\n",
       "      <td>15</td>\n",
       "      <td>3.28</td>\n",
       "    </tr>\n",
       "    <tr>\n",
       "      <th>11</th>\n",
       "      <td>Charlotte Hornets</td>\n",
       "      <td>15</td>\n",
       "      <td>3.28</td>\n",
       "    </tr>\n",
       "    <tr>\n",
       "      <th>12</th>\n",
       "      <td>Atlanta Hawks</td>\n",
       "      <td>15</td>\n",
       "      <td>3.28</td>\n",
       "    </tr>\n",
       "    <tr>\n",
       "      <th>13</th>\n",
       "      <td>San Antonio Spurs</td>\n",
       "      <td>15</td>\n",
       "      <td>3.28</td>\n",
       "    </tr>\n",
       "    <tr>\n",
       "      <th>14</th>\n",
       "      <td>Houston Rockets</td>\n",
       "      <td>15</td>\n",
       "      <td>3.28</td>\n",
       "    </tr>\n",
       "    <tr>\n",
       "      <th>15</th>\n",
       "      <td>Boston Celtics</td>\n",
       "      <td>15</td>\n",
       "      <td>3.28</td>\n",
       "    </tr>\n",
       "    <tr>\n",
       "      <th>16</th>\n",
       "      <td>Indiana Pacers</td>\n",
       "      <td>15</td>\n",
       "      <td>3.28</td>\n",
       "    </tr>\n",
       "    <tr>\n",
       "      <th>17</th>\n",
       "      <td>Detroit Pistons</td>\n",
       "      <td>15</td>\n",
       "      <td>3.28</td>\n",
       "    </tr>\n",
       "    <tr>\n",
       "      <th>18</th>\n",
       "      <td>Cleveland Cavaliers</td>\n",
       "      <td>15</td>\n",
       "      <td>3.28</td>\n",
       "    </tr>\n",
       "    <tr>\n",
       "      <th>19</th>\n",
       "      <td>Chicago Bulls</td>\n",
       "      <td>15</td>\n",
       "      <td>3.28</td>\n",
       "    </tr>\n",
       "    <tr>\n",
       "      <th>20</th>\n",
       "      <td>Sacramento Kings</td>\n",
       "      <td>15</td>\n",
       "      <td>3.28</td>\n",
       "    </tr>\n",
       "    <tr>\n",
       "      <th>21</th>\n",
       "      <td>Phoenix Suns</td>\n",
       "      <td>15</td>\n",
       "      <td>3.28</td>\n",
       "    </tr>\n",
       "    <tr>\n",
       "      <th>22</th>\n",
       "      <td>Los Angeles Lakers</td>\n",
       "      <td>15</td>\n",
       "      <td>3.28</td>\n",
       "    </tr>\n",
       "    <tr>\n",
       "      <th>23</th>\n",
       "      <td>Los Angeles Clippers</td>\n",
       "      <td>15</td>\n",
       "      <td>3.28</td>\n",
       "    </tr>\n",
       "    <tr>\n",
       "      <th>24</th>\n",
       "      <td>Golden State Warriors</td>\n",
       "      <td>15</td>\n",
       "      <td>3.28</td>\n",
       "    </tr>\n",
       "    <tr>\n",
       "      <th>25</th>\n",
       "      <td>Toronto Raptors</td>\n",
       "      <td>15</td>\n",
       "      <td>3.28</td>\n",
       "    </tr>\n",
       "    <tr>\n",
       "      <th>26</th>\n",
       "      <td>Philadelphia 76ers</td>\n",
       "      <td>15</td>\n",
       "      <td>3.28</td>\n",
       "    </tr>\n",
       "    <tr>\n",
       "      <th>27</th>\n",
       "      <td>Dallas Mavericks</td>\n",
       "      <td>15</td>\n",
       "      <td>3.28</td>\n",
       "    </tr>\n",
       "    <tr>\n",
       "      <th>28</th>\n",
       "      <td>Orlando Magic</td>\n",
       "      <td>14</td>\n",
       "      <td>3.06</td>\n",
       "    </tr>\n",
       "    <tr>\n",
       "      <th>29</th>\n",
       "      <td>Minnesota Timberwolves</td>\n",
       "      <td>14</td>\n",
       "      <td>3.06</td>\n",
       "    </tr>\n",
       "  </tbody>\n",
       "</table>\n",
       "</div>"
      ],
      "text/plain": [
       "                      Team  Count  Percentage\n",
       "0     New Orleans Pelicans     19        4.15\n",
       "1        Memphis Grizzlies     18        3.93\n",
       "2                Utah Jazz     16        3.49\n",
       "3          New York Knicks     16        3.49\n",
       "4          Milwaukee Bucks     16        3.49\n",
       "5            Brooklyn Nets     15        3.28\n",
       "6   Portland Trail Blazers     15        3.28\n",
       "7    Oklahoma City Thunder     15        3.28\n",
       "8           Denver Nuggets     15        3.28\n",
       "9       Washington Wizards     15        3.28\n",
       "10              Miami Heat     15        3.28\n",
       "11       Charlotte Hornets     15        3.28\n",
       "12           Atlanta Hawks     15        3.28\n",
       "13       San Antonio Spurs     15        3.28\n",
       "14         Houston Rockets     15        3.28\n",
       "15          Boston Celtics     15        3.28\n",
       "16          Indiana Pacers     15        3.28\n",
       "17         Detroit Pistons     15        3.28\n",
       "18     Cleveland Cavaliers     15        3.28\n",
       "19           Chicago Bulls     15        3.28\n",
       "20        Sacramento Kings     15        3.28\n",
       "21            Phoenix Suns     15        3.28\n",
       "22      Los Angeles Lakers     15        3.28\n",
       "23    Los Angeles Clippers     15        3.28\n",
       "24   Golden State Warriors     15        3.28\n",
       "25         Toronto Raptors     15        3.28\n",
       "26      Philadelphia 76ers     15        3.28\n",
       "27        Dallas Mavericks     15        3.28\n",
       "28           Orlando Magic     14        3.06\n",
       "29  Minnesota Timberwolves     14        3.06"
      ]
     },
     "execution_count": 30,
     "metadata": {},
     "output_type": "execute_result"
    }
   ],
   "source": [
    "Count_Team=data_set['Team'].value_counts()                                            # Calculates count of Employee team wise\n",
    "percentage_split=(Count_Team/Total_no_of_emp)*100                                     # Calculates employee percentage in each team\n",
    "percentage_split=percentage_split.round(2)\n",
    "percentage_split=pd.DataFrame({'Count':Count_Team,'Percentage':percentage_split})     # Creating dataframe with Count and Percentage as fields\n",
    "percentage_split.reset_index()                                                        # Ressting the index of the Dataframe"
   ]
  },
  {
   "cell_type": "markdown",
   "id": "4e053b11-cd04-4fc9-8b90-048b8c764c08",
   "metadata": {},
   "source": [
    "# Visual Representation"
   ]
  },
  {
   "cell_type": "code",
   "execution_count": 32,
   "id": "6f000216-1f62-49b0-bd2c-ee80f059fbfc",
   "metadata": {},
   "outputs": [
    {
     "data": {
      "image/png": "[encoded data removed]",
      "text/plain": [
       "<Figure size 1000x500 with 1 Axes>"
      ]
     },
     "metadata": {},
     "output_type": "display_data"
    }
   ],
   "source": [
    "\n",
    "plt.figure(figsize=(10,5))\n",
    "plt.pie(Count_Team, labels=Count_Team.index,autopct='%1.1f%%')             # Plot pie chart with correct labels\n",
    "plt.title(\"Employee Distribution Across Teams\")\n",
    "plt.show()"
   ]
  },
  {
   "cell_type": "markdown",
   "id": "cc08dc08-fa58-400b-9d30-b092f246761d",
   "metadata": {},
   "source": [
    "# Conclusion:\n",
    "1. Highest number of employees belong to Team New Orleans Pelicans, which is of 4.15% of total employee.\n",
    "\n",
    "2. Minnesota Timberwolves and Orlando Magic have  the least number of employees,each contributing 3.06%.\n"
   ]
  },
  {
   "cell_type": "markdown",
   "id": "a044723e-61aa-4ef9-bea7-0d870eb4ca26",
   "metadata": {},
   "source": [
    "# Task 3:Segregating employees based on their positions within the company"
   ]
  },
  {
   "cell_type": "code",
   "execution_count": 35,
   "id": "17cf004e-cc7f-4442-adfd-f3464c2349be",
   "metadata": {},
   "outputs": [
    {
     "data": {
      "text/html": [
       "<div>\n",
       "<style scoped>\n",
       "    .dataframe tbody tr th:only-of-type {\n",
       "        vertical-align: middle;\n",
       "    }\n",
       "\n",
       "    .dataframe tbody tr th {\n",
       "        vertical-align: top;\n",
       "    }\n",
       "\n",
       "    .dataframe thead th {\n",
       "        text-align: right;\n",
       "    }\n",
       "</style>\n",
       "<table border=\"1\" class=\"dataframe\">\n",
       "  <thead>\n",
       "    <tr style=\"text-align: right;\">\n",
       "      <th></th>\n",
       "      <th>Position</th>\n",
       "      <th>Name</th>\n",
       "      <th>Team</th>\n",
       "      <th>Number</th>\n",
       "      <th>Age</th>\n",
       "      <th>Height</th>\n",
       "      <th>Weight</th>\n",
       "      <th>College</th>\n",
       "      <th>Salary</th>\n",
       "      <th>count</th>\n",
       "    </tr>\n",
       "  </thead>\n",
       "  <tbody>\n",
       "    <tr>\n",
       "      <th>0</th>\n",
       "      <td>C</td>\n",
       "      <td>Al Horford</td>\n",
       "      <td>Atlanta Hawks</td>\n",
       "      <td>15</td>\n",
       "      <td>30</td>\n",
       "      <td>158</td>\n",
       "      <td>245</td>\n",
       "      <td>Florida</td>\n",
       "      <td>12000000.0</td>\n",
       "      <td>1</td>\n",
       "    </tr>\n",
       "    <tr>\n",
       "      <th>1</th>\n",
       "      <td>C</td>\n",
       "      <td>Al Jefferson</td>\n",
       "      <td>Charlotte Hornets</td>\n",
       "      <td>25</td>\n",
       "      <td>31</td>\n",
       "      <td>177</td>\n",
       "      <td>289</td>\n",
       "      <td>Unknown</td>\n",
       "      <td>13500000.0</td>\n",
       "      <td>1</td>\n",
       "    </tr>\n",
       "    <tr>\n",
       "      <th>2</th>\n",
       "      <td>C</td>\n",
       "      <td>Alan Williams</td>\n",
       "      <td>Phoenix Suns</td>\n",
       "      <td>15</td>\n",
       "      <td>23</td>\n",
       "      <td>177</td>\n",
       "      <td>260</td>\n",
       "      <td>UC Santa Barbara</td>\n",
       "      <td>83397.0</td>\n",
       "      <td>1</td>\n",
       "    </tr>\n",
       "    <tr>\n",
       "      <th>3</th>\n",
       "      <td>C</td>\n",
       "      <td>Alex Len</td>\n",
       "      <td>Phoenix Suns</td>\n",
       "      <td>21</td>\n",
       "      <td>22</td>\n",
       "      <td>170</td>\n",
       "      <td>260</td>\n",
       "      <td>Maryland</td>\n",
       "      <td>3807120.0</td>\n",
       "      <td>1</td>\n",
       "    </tr>\n",
       "    <tr>\n",
       "      <th>4</th>\n",
       "      <td>C</td>\n",
       "      <td>Alexis Ajinca</td>\n",
       "      <td>New Orleans Pelicans</td>\n",
       "      <td>42</td>\n",
       "      <td>28</td>\n",
       "      <td>172</td>\n",
       "      <td>248</td>\n",
       "      <td>Unknown</td>\n",
       "      <td>4389607.0</td>\n",
       "      <td>1</td>\n",
       "    </tr>\n",
       "    <tr>\n",
       "      <th>...</th>\n",
       "      <td>...</td>\n",
       "      <td>...</td>\n",
       "      <td>...</td>\n",
       "      <td>...</td>\n",
       "      <td>...</td>\n",
       "      <td>...</td>\n",
       "      <td>...</td>\n",
       "      <td>...</td>\n",
       "      <td>...</td>\n",
       "      <td>...</td>\n",
       "    </tr>\n",
       "    <tr>\n",
       "      <th>453</th>\n",
       "      <td>SG</td>\n",
       "      <td>Tyreke Evans</td>\n",
       "      <td>New Orleans Pelicans</td>\n",
       "      <td>1</td>\n",
       "      <td>26</td>\n",
       "      <td>151</td>\n",
       "      <td>220</td>\n",
       "      <td>Memphis</td>\n",
       "      <td>10734586.0</td>\n",
       "      <td>1</td>\n",
       "    </tr>\n",
       "    <tr>\n",
       "      <th>454</th>\n",
       "      <td>SG</td>\n",
       "      <td>Victor Oladipo</td>\n",
       "      <td>Orlando Magic</td>\n",
       "      <td>5</td>\n",
       "      <td>24</td>\n",
       "      <td>177</td>\n",
       "      <td>210</td>\n",
       "      <td>Indiana</td>\n",
       "      <td>5192520.0</td>\n",
       "      <td>1</td>\n",
       "    </tr>\n",
       "    <tr>\n",
       "      <th>455</th>\n",
       "      <td>SG</td>\n",
       "      <td>Vince Carter</td>\n",
       "      <td>Memphis Grizzlies</td>\n",
       "      <td>15</td>\n",
       "      <td>39</td>\n",
       "      <td>160</td>\n",
       "      <td>220</td>\n",
       "      <td>North Carolina</td>\n",
       "      <td>4088019.0</td>\n",
       "      <td>1</td>\n",
       "    </tr>\n",
       "    <tr>\n",
       "      <th>456</th>\n",
       "      <td>SG</td>\n",
       "      <td>Wayne Ellington</td>\n",
       "      <td>Brooklyn Nets</td>\n",
       "      <td>21</td>\n",
       "      <td>28</td>\n",
       "      <td>165</td>\n",
       "      <td>200</td>\n",
       "      <td>North Carolina</td>\n",
       "      <td>1500000.0</td>\n",
       "      <td>1</td>\n",
       "    </tr>\n",
       "    <tr>\n",
       "      <th>457</th>\n",
       "      <td>SG</td>\n",
       "      <td>Wesley Matthews</td>\n",
       "      <td>Dallas Mavericks</td>\n",
       "      <td>23</td>\n",
       "      <td>29</td>\n",
       "      <td>158</td>\n",
       "      <td>220</td>\n",
       "      <td>Marquette</td>\n",
       "      <td>16407500.0</td>\n",
       "      <td>1</td>\n",
       "    </tr>\n",
       "  </tbody>\n",
       "</table>\n",
       "<p>458 rows × 10 columns</p>\n",
       "</div>"
      ],
      "text/plain": [
       "    Position             Name                  Team  Number  Age  Height  \\\n",
       "0          C       Al Horford         Atlanta Hawks      15   30     158   \n",
       "1          C     Al Jefferson     Charlotte Hornets      25   31     177   \n",
       "2          C    Alan Williams          Phoenix Suns      15   23     177   \n",
       "3          C         Alex Len          Phoenix Suns      21   22     170   \n",
       "4          C    Alexis Ajinca  New Orleans Pelicans      42   28     172   \n",
       "..       ...              ...                   ...     ...  ...     ...   \n",
       "453       SG     Tyreke Evans  New Orleans Pelicans       1   26     151   \n",
       "454       SG   Victor Oladipo         Orlando Magic       5   24     177   \n",
       "455       SG     Vince Carter     Memphis Grizzlies      15   39     160   \n",
       "456       SG  Wayne Ellington         Brooklyn Nets      21   28     165   \n",
       "457       SG  Wesley Matthews      Dallas Mavericks      23   29     158   \n",
       "\n",
       "     Weight           College      Salary  count  \n",
       "0       245           Florida  12000000.0      1  \n",
       "1       289           Unknown  13500000.0      1  \n",
       "2       260  UC Santa Barbara     83397.0      1  \n",
       "3       260          Maryland   3807120.0      1  \n",
       "4       248           Unknown   4389607.0      1  \n",
       "..      ...               ...         ...    ...  \n",
       "453     220           Memphis  10734586.0      1  \n",
       "454     210           Indiana   5192520.0      1  \n",
       "455     220    North Carolina   4088019.0      1  \n",
       "456     200    North Carolina   1500000.0      1  \n",
       "457     220         Marquette  16407500.0      1  \n",
       "\n",
       "[458 rows x 10 columns]"
      ]
     },
     "execution_count": 35,
     "metadata": {},
     "output_type": "execute_result"
    }
   ],
   "source": [
    "Positions=data_set.groupby('Position').value_counts()                # Group employees based on position\n",
    "Positions.reset_index()"
   ]
  },
  {
   "cell_type": "markdown",
   "id": "0fe3e2ce-e8ab-4329-9d7c-ec7628178e3c",
   "metadata": {},
   "source": [
    "# Visual Representation"
   ]
  },
  {
   "cell_type": "code",
   "execution_count": 37,
   "id": "ecd1e00c-2fde-432e-b6c0-cf2641b896f0",
   "metadata": {},
   "outputs": [
    {
     "data": {
      "image/png": "[encoded data removed]",
      "text/plain": [
       "<Figure size 1000x500 with 1 Axes>"
      ]
     },
     "metadata": {},
     "output_type": "display_data"
    }
   ],
   "source": [
    "\n",
    "positions_count = data_set['Position'].value_counts().reset_index()\n",
    "positions_count.columns = ['Position', 'Count']\n",
    "\n",
    "\n",
    "plt.figure(figsize=(10,5))\n",
    "sns.barplot(data=positions_count, x='Position', y='Count', color='blue') # Plotting using Bar plot\n",
    "\n",
    "plt.xlabel(\"Position\")                                                   # Label for x axis\n",
    "plt.ylabel(\"Number of Employees\")                                        # Label for y axis\n",
    "plt.title(\"Employee Distribution by Position\")                           # Label for title\n",
    "plt.show()"
   ]
  },
  {
   "cell_type": "markdown",
   "id": "2b00060c-ae7e-4dde-ad84-3dd8337a27ed",
   "metadata": {},
   "source": [
    "# Conclusion :\n",
    "1. Most common job role is Shoot Guard (SG) , while least is Centre."
   ]
  },
  {
   "cell_type": "markdown",
   "id": "0be8cc7c-e781-4583-b690-e5f93a21d5f8",
   "metadata": {},
   "source": [
    "# Task 4:  Identifing the predominant age group among employees"
   ]
  },
  {
   "cell_type": "code",
   "execution_count": 40,
   "id": "a169756f-10c9-45ca-984e-e8a2aed56a66",
   "metadata": {},
   "outputs": [
    {
     "name": "stdout",
     "output_type": "stream",
     "text": [
      "Predominant age group :  Age_Group    26-35\n",
      "count          272\n",
      "Name: 0, dtype: object\n"
     ]
    }
   ],
   "source": [
    "data_set['Age_Group']=np.where(data_set['Age'] < 25, '18-25',\n",
    "                         np.where(data_set['Age'] < 35, '26-35',\n",
    "                         np.where(data_set['Age'] < 45, '36-45',\n",
    "                         np.where(data_set['Age'] < 55, '46-55',\n",
    "                         np.where(data_set['Age'] < 65, '56-65', '65+')))))\n",
    "Predominant_Age_Group=data_set['Age_Group'].value_counts().reset_index()\n",
    "print(\"Predominant age group : \",Predominant_Age_Group.iloc[0])"
   ]
  },
  {
   "cell_type": "markdown",
   "id": "59235291-ec1c-4bff-a6eb-1a10b0b2909d",
   "metadata": {},
   "source": [
    "# Visualisation"
   ]
  },
  {
   "cell_type": "code",
   "execution_count": 42,
   "id": "c61d54f4-d01c-4939-8d18-840303eb6692",
   "metadata": {},
   "outputs": [
    {
     "data": {
      "image/png": "[encoded data removed]",
      "text/plain": [
       "<Figure size 2000x500 with 1 Axes>"
      ]
     },
     "metadata": {},
     "output_type": "display_data"
    }
   ],
   "source": [
    "Predominant_Age_Group.columns = ['Age Group', 'Count']\n",
    "\n",
    "plt.figure(figsize=(20,5))\n",
    "sns.barplot(data=Predominant_Age_Group, x='Age Group', y='Count', color='green',width=0.5)    # Plotting using Bar plot\n",
    "plt.grid(alpha=0.2)\n",
    "plt.xlabel(\"Age Group\")                                                       # Label for x axis\n",
    "plt.ylabel(\"Count of Employees\")                                              # Label for y axis\n",
    "plt.title(\"Predominant Age Group\")                                            # Label for title\n",
    "plt.show()"
   ]
  },
  {
   "cell_type": "markdown",
   "id": "f9847b9c-9c0e-43b3-9498-3cda86b9b8f6",
   "metadata": {},
   "source": [
    "# Conclusion:\n",
    "1.The majority of employees fall within the 26-35 age group, while: \n",
    "\n",
    "   \t-The Shooting Guard role likely has a high number of employees in this age band.\n",
    "    \n",
    "   \t-The Center position likely has more employees in the 36-45 age group, given its lower total count.\n"
   ]
  },
  {
   "cell_type": "markdown",
   "id": "167a719c-70b3-4f65-ac2d-28b77266a45f",
   "metadata": {},
   "source": [
    "# Task 5 :Discovering the team and position have the highest salary expenditure. "
   ]
  },
  {
   "cell_type": "code",
   "execution_count": 45,
   "id": "4d4c50ae-b4fc-4845-bfbf-7c1f55de4489",
   "metadata": {},
   "outputs": [
    {
     "name": "stdout",
     "output_type": "stream",
     "text": [
      "Team and position with highest salary :\n",
      "                  Team Position      Salary\n",
      "0  Los Angeles Lakers       SF  31866445.0\n"
     ]
    }
   ],
   "source": [
    "Total_Salary=data_set.groupby(['Team','Position'])['Salary'].sum()\n",
    "Highest_Salary=Total_Salary.sort_values(ascending=False).head(3).reset_index()\n",
    "print(\"Team and position with highest salary :\\n\",Highest_Salary.head(1))"
   ]
  },
  {
   "cell_type": "markdown",
   "id": "b8b08a4b-f8e6-45d3-be6a-b150ff1a439c",
   "metadata": {},
   "source": [
    "# Visualisation"
   ]
  },
  {
   "cell_type": "code",
   "execution_count": 47,
   "id": "f32878b2-3556-478b-829c-0c9833bad093",
   "metadata": {},
   "outputs": [
    {
     "name": "stderr",
     "output_type": "stream",
     "text": [
      "C:\\Users\\sam00\\AppData\\Local\\Temp\\ipykernel_1212\\3018726670.py:2: FutureWarning: \n",
      "\n",
      "Setting a gradient palette using color= is deprecated and will be removed in v0.14.0. Set `palette='dark:green'` for the same effect.\n",
      "\n",
      "  sns.barplot(data=Highest_Salary, y='Team', x='Salary',color='green',width=0.1,hue='Position')     # Plotting using Horizontal Bar plot\n"
     ]
    },
    {
     "data": {
      "image/png": "[encoded data removed]",
      "text/plain": [
       "<Figure size 1000x1000 with 1 Axes>"
      ]
     },
     "metadata": {},
     "output_type": "display_data"
    }
   ],
   "source": [
    "\n",
    "plt.figure(figsize=(10,10))\n",
    "sns.barplot(data=Highest_Salary, y='Team', x='Salary',color='green',width=0.1,hue='Position')     # Plotting using Horizontal Bar plot\n",
    "plt.xlabel(\"Salary\")                                                                   # Label for x axis\n",
    "plt.ylabel(\"Team\")                                                                     # Label for y axis\n",
    "plt.title(\"Team and Position wise Salary\")                                                     # Label for title\n",
    "plt.show()\n"
   ]
  },
  {
   "cell_type": "markdown",
   "id": "29ff9ccf-d86b-4b23-9b7e-d198eef53640",
   "metadata": {},
   "source": [
    "# Conclusion:\n",
    "1.The highest salary expenditure is for Team Los Angeles Lakers, specifically for the Small Forward (SF) position.\n",
    "\n",
    "2.The second-highest salary expenditure is for Team Miami Heat."
   ]
  },
  {
   "cell_type": "markdown",
   "id": "94c5f999-fcfe-4484-877a-a2d1dc458089",
   "metadata": {},
   "source": [
    "# Task 6:Investigating whether there is any correlation between age and salary, and representing it visually. "
   ]
  },
  {
   "cell_type": "code",
   "execution_count": 49,
   "id": "c63d9323-017e-41c4-bdf4-872d96102d61",
   "metadata": {},
   "outputs": [
    {
     "name": "stdout",
     "output_type": "stream",
     "text": [
      "Correlation between Age and Salary: 0.20912419115196068\n"
     ]
    }
   ],
   "source": [
    "correlation = data_set['Age'].corr(data_set['Salary'])\n",
    "print(\"Correlation between Age and Salary:\", correlation)"
   ]
  },
  {
   "cell_type": "markdown",
   "id": "90ccaaa3-1de1-43aa-998d-6660f6142930",
   "metadata": {},
   "source": [
    "# Visualisation"
   ]
  },
  {
   "cell_type": "code",
   "execution_count": 51,
   "id": "09947b87-a228-45bb-ad96-9d5a9dfac716",
   "metadata": {},
   "outputs": [
    {
     "data": {
      "image/png": "[encoded data removed]",
      "text/plain": [
       "<Figure size 1000x500 with 2 Axes>"
      ]
     },
     "metadata": {},
     "output_type": "display_data"
    }
   ],
   "source": [
    "plt.figure(figsize=(10, 5))\n",
    "sns.heatmap(data_set[['Age', 'Salary']].corr())\n",
    "plt.title(\"Correlation between Age and Salary\")\n",
    "plt.show()"
   ]
  },
  {
   "cell_type": "markdown",
   "id": "ce565184-46b0-4438-8648-7db2c8cca4cc",
   "metadata": {},
   "source": [
    "# Conclusion\n",
    "\n",
    "1.There is a slight positive correlation of 0.209 between age and salary meaning salary increases with age."
   ]
  },
  {
   "cell_type": "code",
   "execution_count": null,
   "id": "6039b14e-d947-4a59-ac91-8c8ca30174e6",
   "metadata": {},
   "outputs": [],
   "source": []
  }
 ],
 "metadata": {
  "kernelspec": {
   "display_name": "Python [conda env:base] *",
   "language": "python",
   "name": "conda-base-py"
  },
  "language_info": {
   "codemirror_mode": {
    "name": "ipython",
    "version": 3
   },
   "file_extension": ".py",
   "mimetype": "text/x-python",
   "name": "python",
   "nbconvert_exporter": "python",
   "pygments_lexer": "ipython3",
   "version": "3.12.7"
  }
 },
 "nbformat": 4,
 "nbformat_minor": 5
}
